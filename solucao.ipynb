{
 "cells": [
  {
   "cell_type": "markdown",
   "metadata": {},
   "source": [
    "## 0.0) Importando Bibliotecas"
   ]
  },
  {
   "cell_type": "code",
   "execution_count": 2,
   "metadata": {},
   "outputs": [
    {
     "name": "stdout",
     "output_type": "stream",
     "text": [
      "Requirement already satisfied: chardet in /home/gustavos/anaconda3/envs/minimal_ds/lib/python3.8/site-packages (5.2.0)\n"
     ]
    }
   ],
   "source": [
    "import sys\n",
    "import pandas as pd\n",
    "import matplotlib.pyplot as plt\n",
    "import seaborn as sns\n",
    "\n",
    "!{sys.executable} -m pip install chardet\n",
    "import chardet"
   ]
  },
  {
   "cell_type": "code",
   "execution_count": 3,
   "metadata": {},
   "outputs": [],
   "source": [
    "pd.options.display.float_format = '{:.2f}'.format"
   ]
  },
  {
   "cell_type": "markdown",
   "metadata": {},
   "source": [
    "#### Funções Auxiliares"
   ]
  },
  {
   "cell_type": "code",
   "execution_count": null,
   "metadata": {},
   "outputs": [],
   "source": [
    "def remove_outliers_tucker(series, threshold=1.5):\n",
    "    q1 = series.quantile(0.25)\n",
    "    q3 = series.quantile(0.75)\n",
    "    iqr = q3 - q1\n",
    "\n",
    "    lower_limit = q1 - threshold * iqr\n",
    "    upper_limit = q3 + threshold * iqr\n",
    "\n",
    "    filtered_series = series[(series >= lower_limit) & (series <= upper_limit)]\n",
    "    return filtered_series"
   ]
  },
  {
   "cell_type": "markdown",
   "metadata": {},
   "source": [
    "## 0.1) Carregando os Dados"
   ]
  },
  {
   "cell_type": "markdown",
   "metadata": {},
   "source": [
    "Carregando dataset de imóveis"
   ]
  },
  {
   "cell_type": "code",
   "execution_count": 4,
   "metadata": {},
   "outputs": [
    {
     "data": {
      "text/html": [
       "<div>\n",
       "<style scoped>\n",
       "    .dataframe tbody tr th:only-of-type {\n",
       "        vertical-align: middle;\n",
       "    }\n",
       "\n",
       "    .dataframe tbody tr th {\n",
       "        vertical-align: top;\n",
       "    }\n",
       "\n",
       "    .dataframe thead th {\n",
       "        text-align: right;\n",
       "    }\n",
       "</style>\n",
       "<table border=\"1\" class=\"dataframe\">\n",
       "  <thead>\n",
       "    <tr style=\"text-align: right;\">\n",
       "      <th></th>\n",
       "      <th>Rua</th>\n",
       "      <th>Bairro</th>\n",
       "      <th>Cidade</th>\n",
       "      <th>Metragem</th>\n",
       "      <th>Quartos</th>\n",
       "      <th>Banheiros</th>\n",
       "      <th>Vagas</th>\n",
       "      <th>Valor</th>\n",
       "    </tr>\n",
       "  </thead>\n",
       "  <tbody>\n",
       "    <tr>\n",
       "      <th>0</th>\n",
       "      <td>Avenida Itacira, 255</td>\n",
       "      <td>Planalto Paulista</td>\n",
       "      <td>São Paulo</td>\n",
       "      <td>1000</td>\n",
       "      <td>4</td>\n",
       "      <td>8</td>\n",
       "      <td>6</td>\n",
       "      <td>R$ 7.000.000</td>\n",
       "    </tr>\n",
       "    <tr>\n",
       "      <th>1</th>\n",
       "      <td>Rua Aurelia Perez Alvarez, 42</td>\n",
       "      <td>Jardim dos Estados</td>\n",
       "      <td>São Paulo</td>\n",
       "      <td>496</td>\n",
       "      <td>4</td>\n",
       "      <td>4</td>\n",
       "      <td>4</td>\n",
       "      <td>R$ 3.700.000</td>\n",
       "    </tr>\n",
       "    <tr>\n",
       "      <th>2</th>\n",
       "      <td>Rua Alba Valdez</td>\n",
       "      <td>Jardim Reimberg</td>\n",
       "      <td>São Paulo</td>\n",
       "      <td>125</td>\n",
       "      <td>4</td>\n",
       "      <td>3</td>\n",
       "      <td>2</td>\n",
       "      <td>R$ 380.000</td>\n",
       "    </tr>\n",
       "    <tr>\n",
       "      <th>3</th>\n",
       "      <td>NaN</td>\n",
       "      <td>Jardim Morumbi</td>\n",
       "      <td>São Paulo</td>\n",
       "      <td>310</td>\n",
       "      <td>3</td>\n",
       "      <td>2</td>\n",
       "      <td>4</td>\n",
       "      <td>R$ 685.000</td>\n",
       "    </tr>\n",
       "    <tr>\n",
       "      <th>4</th>\n",
       "      <td>Rua Tobias Barreto, 195</td>\n",
       "      <td>Mooca</td>\n",
       "      <td>São Paulo</td>\n",
       "      <td>100</td>\n",
       "      <td>3</td>\n",
       "      <td>2</td>\n",
       "      <td>2</td>\n",
       "      <td>R$ 540.000</td>\n",
       "    </tr>\n",
       "  </tbody>\n",
       "</table>\n",
       "</div>"
      ],
      "text/plain": [
       "                              Rua              Bairro     Cidade  Metragem  \\\n",
       "0           Avenida Itacira, 255    Planalto Paulista  São Paulo      1000   \n",
       "1  Rua Aurelia Perez Alvarez, 42   Jardim dos Estados  São Paulo       496   \n",
       "2                 Rua Alba Valdez     Jardim Reimberg  São Paulo       125   \n",
       "3                             NaN      Jardim Morumbi  São Paulo       310   \n",
       "4        Rua Tobias Barreto, 195                Mooca  São Paulo       100   \n",
       "\n",
       "   Quartos  Banheiros  Vagas         Valor  \n",
       "0        4          8      6  R$ 7.000.000  \n",
       "1        4          4      4  R$ 3.700.000  \n",
       "2        4          3      2    R$ 380.000  \n",
       "3        3          2      4    R$ 685.000  \n",
       "4        3          2      2    R$ 540.000  "
      ]
     },
     "execution_count": 4,
     "metadata": {},
     "output_type": "execute_result"
    }
   ],
   "source": [
    "df_imoveis = pd.read_csv('./dados/dados_imoveis.csv')\n",
    "df_imoveis.head()"
   ]
  },
  {
   "cell_type": "markdown",
   "metadata": {},
   "source": [
    "Carregando dataset do IBGE"
   ]
  },
  {
   "cell_type": "code",
   "execution_count": 5,
   "metadata": {},
   "outputs": [
    {
     "name": "stdout",
     "output_type": "stream",
     "text": [
      "{'encoding': 'utf-8', 'confidence': 0.99, 'language': ''}\n"
     ]
    }
   ],
   "source": [
    "# Olhar os 10000 primeiros bytes do arquivo para deduzir o enconding dos caracteres\n",
    "# para então importar corretamente os dados em um Pandas Dataframe\n",
    "with open(\"./dados/basico_sp1.csv\", 'rb') as rawdata:\n",
    "    result = chardet.detect(rawdata.read(10000))\n",
    "\n",
    "print(result)"
   ]
  },
  {
   "cell_type": "code",
   "execution_count": 6,
   "metadata": {},
   "outputs": [
    {
     "data": {
      "text/html": [
       "<div>\n",
       "<style scoped>\n",
       "    .dataframe tbody tr th:only-of-type {\n",
       "        vertical-align: middle;\n",
       "    }\n",
       "\n",
       "    .dataframe tbody tr th {\n",
       "        vertical-align: top;\n",
       "    }\n",
       "\n",
       "    .dataframe thead th {\n",
       "        text-align: right;\n",
       "    }\n",
       "</style>\n",
       "<table border=\"1\" class=\"dataframe\">\n",
       "  <thead>\n",
       "    <tr style=\"text-align: right;\">\n",
       "      <th></th>\n",
       "      <th>Cod_setor</th>\n",
       "      <th>Cod_Grandes Regi�es</th>\n",
       "      <th>Nome_Grande_Regiao</th>\n",
       "      <th>Cod_UF</th>\n",
       "      <th>Nome_da_UF</th>\n",
       "      <th>Cod_meso</th>\n",
       "      <th>Nome_da_meso</th>\n",
       "      <th>Cod_micro</th>\n",
       "      <th>Nome_da_micro</th>\n",
       "      <th>Cod_RM</th>\n",
       "      <th>...</th>\n",
       "      <th>V003</th>\n",
       "      <th>V004</th>\n",
       "      <th>V005</th>\n",
       "      <th>V006</th>\n",
       "      <th>V007</th>\n",
       "      <th>V008</th>\n",
       "      <th>V009</th>\n",
       "      <th>V010</th>\n",
       "      <th>V011</th>\n",
       "      <th>V012</th>\n",
       "    </tr>\n",
       "  </thead>\n",
       "  <tbody>\n",
       "    <tr>\n",
       "      <th>0</th>\n",
       "      <td>355030801000001</td>\n",
       "      <td>3</td>\n",
       "      <td>Regi�o Sudeste</td>\n",
       "      <td>35</td>\n",
       "      <td>S�o Paulo</td>\n",
       "      <td>3515</td>\n",
       "      <td>Metropolitana de S�o Paulo</td>\n",
       "      <td>35061</td>\n",
       "      <td>S�o Paulo</td>\n",
       "      <td>20</td>\n",
       "      <td>...</td>\n",
       "      <td>3.01</td>\n",
       "      <td>2.32</td>\n",
       "      <td>2091.32</td>\n",
       "      <td>8532451.78</td>\n",
       "      <td>2164.55</td>\n",
       "      <td>8673276.78</td>\n",
       "      <td>1227.41</td>\n",
       "      <td>4285771.99</td>\n",
       "      <td>1713.75</td>\n",
       "      <td>5152087.86</td>\n",
       "    </tr>\n",
       "    <tr>\n",
       "      <th>1</th>\n",
       "      <td>355030801000002</td>\n",
       "      <td>3</td>\n",
       "      <td>Regi�o Sudeste</td>\n",
       "      <td>35</td>\n",
       "      <td>S�o Paulo</td>\n",
       "      <td>3515</td>\n",
       "      <td>Metropolitana de S�o Paulo</td>\n",
       "      <td>35061</td>\n",
       "      <td>S�o Paulo</td>\n",
       "      <td>20</td>\n",
       "      <td>...</td>\n",
       "      <td>2.98</td>\n",
       "      <td>2.09</td>\n",
       "      <td>1650.09</td>\n",
       "      <td>3983441.31</td>\n",
       "      <td>1717.44</td>\n",
       "      <td>4030519.99</td>\n",
       "      <td>1045.78</td>\n",
       "      <td>2572133.32</td>\n",
       "      <td>1468.08</td>\n",
       "      <td>2991546.94</td>\n",
       "    </tr>\n",
       "    <tr>\n",
       "      <th>2</th>\n",
       "      <td>355030801000003</td>\n",
       "      <td>3</td>\n",
       "      <td>Regi�o Sudeste</td>\n",
       "      <td>35</td>\n",
       "      <td>S�o Paulo</td>\n",
       "      <td>3515</td>\n",
       "      <td>Metropolitana de S�o Paulo</td>\n",
       "      <td>35061</td>\n",
       "      <td>S�o Paulo</td>\n",
       "      <td>20</td>\n",
       "      <td>...</td>\n",
       "      <td>3.31</td>\n",
       "      <td>3.08</td>\n",
       "      <td>1280.43</td>\n",
       "      <td>5474593.06</td>\n",
       "      <td>2349.53</td>\n",
       "      <td>7553913.02</td>\n",
       "      <td>902.97</td>\n",
       "      <td>2735492.52</td>\n",
       "      <td>1786.79</td>\n",
       "      <td>3837674.74</td>\n",
       "    </tr>\n",
       "    <tr>\n",
       "      <th>3</th>\n",
       "      <td>355030801000004</td>\n",
       "      <td>3</td>\n",
       "      <td>Regi�o Sudeste</td>\n",
       "      <td>35</td>\n",
       "      <td>S�o Paulo</td>\n",
       "      <td>3515</td>\n",
       "      <td>Metropolitana de S�o Paulo</td>\n",
       "      <td>35061</td>\n",
       "      <td>S�o Paulo</td>\n",
       "      <td>20</td>\n",
       "      <td>...</td>\n",
       "      <td>3.16</td>\n",
       "      <td>2.26</td>\n",
       "      <td>1119.59</td>\n",
       "      <td>3572955.10</td>\n",
       "      <td>1859.13</td>\n",
       "      <td>4567289.50</td>\n",
       "      <td>869.09</td>\n",
       "      <td>2122409.02</td>\n",
       "      <td>1567.41</td>\n",
       "      <td>2735383.24</td>\n",
       "    </tr>\n",
       "    <tr>\n",
       "      <th>4</th>\n",
       "      <td>355030801000005</td>\n",
       "      <td>3</td>\n",
       "      <td>Regi�o Sudeste</td>\n",
       "      <td>35</td>\n",
       "      <td>S�o Paulo</td>\n",
       "      <td>3515</td>\n",
       "      <td>Metropolitana de S�o Paulo</td>\n",
       "      <td>35061</td>\n",
       "      <td>S�o Paulo</td>\n",
       "      <td>20</td>\n",
       "      <td>...</td>\n",
       "      <td>3.14</td>\n",
       "      <td>2.35</td>\n",
       "      <td>1416.90</td>\n",
       "      <td>2240207.58</td>\n",
       "      <td>1581.66</td>\n",
       "      <td>2240109.39</td>\n",
       "      <td>917.71</td>\n",
       "      <td>1570047.75</td>\n",
       "      <td>1356.35</td>\n",
       "      <td>1725877.85</td>\n",
       "    </tr>\n",
       "  </tbody>\n",
       "</table>\n",
       "<p>5 rows × 33 columns</p>\n",
       "</div>"
      ],
      "text/plain": [
       "         Cod_setor  Cod_Grandes Regi�es Nome_Grande_Regiao  Cod_UF  \\\n",
       "0  355030801000001                    3     Regi�o Sudeste      35   \n",
       "1  355030801000002                    3     Regi�o Sudeste      35   \n",
       "2  355030801000003                    3     Regi�o Sudeste      35   \n",
       "3  355030801000004                    3     Regi�o Sudeste      35   \n",
       "4  355030801000005                    3     Regi�o Sudeste      35   \n",
       "\n",
       "  Nome_da_UF   Cod_meso                Nome_da_meso  Cod_micro Nome_da_micro  \\\n",
       "0   S�o Paulo      3515  Metropolitana de S�o Paulo      35061     S�o Paulo   \n",
       "1   S�o Paulo      3515  Metropolitana de S�o Paulo      35061     S�o Paulo   \n",
       "2   S�o Paulo      3515  Metropolitana de S�o Paulo      35061     S�o Paulo   \n",
       "3   S�o Paulo      3515  Metropolitana de S�o Paulo      35061     S�o Paulo   \n",
       "4   S�o Paulo      3515  Metropolitana de S�o Paulo      35061     S�o Paulo   \n",
       "\n",
       "   Cod_RM  ... V003  V004    V005       V006    V007       V008    V009  \\\n",
       "0      20  ... 3.01  2.32 2091.32 8532451.78 2164.55 8673276.78 1227.41   \n",
       "1      20  ... 2.98  2.09 1650.09 3983441.31 1717.44 4030519.99 1045.78   \n",
       "2      20  ... 3.31  3.08 1280.43 5474593.06 2349.53 7553913.02  902.97   \n",
       "3      20  ... 3.16  2.26 1119.59 3572955.10 1859.13 4567289.50  869.09   \n",
       "4      20  ... 3.14  2.35 1416.90 2240207.58 1581.66 2240109.39  917.71   \n",
       "\n",
       "        V010    V011       V012  \n",
       "0 4285771.99 1713.75 5152087.86  \n",
       "1 2572133.32 1468.08 2991546.94  \n",
       "2 2735492.52 1786.79 3837674.74  \n",
       "3 2122409.02 1567.41 2735383.24  \n",
       "4 1570047.75 1356.35 1725877.85  \n",
       "\n",
       "[5 rows x 33 columns]"
      ]
     },
     "execution_count": 6,
     "metadata": {},
     "output_type": "execute_result"
    }
   ],
   "source": [
    "# Importando a base de dados do IBGE\n",
    "df_ibge = pd.read_csv( './dados/basico_sp1.csv', sep=\";\", encoding='utf-8', thousands=\".\", decimal=\",\", engine=\"python\" )\n",
    "df_ibge.dropna(how='all', axis=1, inplace=True)\n",
    "df_ibge.head()"
   ]
  },
  {
   "cell_type": "markdown",
   "metadata": {},
   "source": [
    "# 1) Descrição dos Dados"
   ]
  },
  {
   "cell_type": "code",
   "execution_count": 7,
   "metadata": {},
   "outputs": [
    {
     "data": {
      "text/html": [
       "<div>\n",
       "<style scoped>\n",
       "    .dataframe tbody tr th:only-of-type {\n",
       "        vertical-align: middle;\n",
       "    }\n",
       "\n",
       "    .dataframe tbody tr th {\n",
       "        vertical-align: top;\n",
       "    }\n",
       "\n",
       "    .dataframe thead th {\n",
       "        text-align: right;\n",
       "    }\n",
       "</style>\n",
       "<table border=\"1\" class=\"dataframe\">\n",
       "  <thead>\n",
       "    <tr style=\"text-align: right;\">\n",
       "      <th></th>\n",
       "      <th>Rua</th>\n",
       "      <th>Bairro</th>\n",
       "      <th>Cidade</th>\n",
       "      <th>Metragem</th>\n",
       "      <th>Quartos</th>\n",
       "      <th>Banheiros</th>\n",
       "      <th>Vagas</th>\n",
       "      <th>Valor</th>\n",
       "    </tr>\n",
       "  </thead>\n",
       "  <tbody>\n",
       "    <tr>\n",
       "      <th>0</th>\n",
       "      <td>Avenida Itacira, 255</td>\n",
       "      <td>Planalto Paulista</td>\n",
       "      <td>São Paulo</td>\n",
       "      <td>1000</td>\n",
       "      <td>4</td>\n",
       "      <td>8</td>\n",
       "      <td>6</td>\n",
       "      <td>R$ 7.000.000</td>\n",
       "    </tr>\n",
       "    <tr>\n",
       "      <th>1</th>\n",
       "      <td>Rua Aurelia Perez Alvarez, 42</td>\n",
       "      <td>Jardim dos Estados</td>\n",
       "      <td>São Paulo</td>\n",
       "      <td>496</td>\n",
       "      <td>4</td>\n",
       "      <td>4</td>\n",
       "      <td>4</td>\n",
       "      <td>R$ 3.700.000</td>\n",
       "    </tr>\n",
       "    <tr>\n",
       "      <th>2</th>\n",
       "      <td>Rua Alba Valdez</td>\n",
       "      <td>Jardim Reimberg</td>\n",
       "      <td>São Paulo</td>\n",
       "      <td>125</td>\n",
       "      <td>4</td>\n",
       "      <td>3</td>\n",
       "      <td>2</td>\n",
       "      <td>R$ 380.000</td>\n",
       "    </tr>\n",
       "    <tr>\n",
       "      <th>3</th>\n",
       "      <td>NaN</td>\n",
       "      <td>Jardim Morumbi</td>\n",
       "      <td>São Paulo</td>\n",
       "      <td>310</td>\n",
       "      <td>3</td>\n",
       "      <td>2</td>\n",
       "      <td>4</td>\n",
       "      <td>R$ 685.000</td>\n",
       "    </tr>\n",
       "    <tr>\n",
       "      <th>4</th>\n",
       "      <td>Rua Tobias Barreto, 195</td>\n",
       "      <td>Mooca</td>\n",
       "      <td>São Paulo</td>\n",
       "      <td>100</td>\n",
       "      <td>3</td>\n",
       "      <td>2</td>\n",
       "      <td>2</td>\n",
       "      <td>R$ 540.000</td>\n",
       "    </tr>\n",
       "  </tbody>\n",
       "</table>\n",
       "</div>"
      ],
      "text/plain": [
       "                              Rua              Bairro     Cidade  Metragem  \\\n",
       "0           Avenida Itacira, 255    Planalto Paulista  São Paulo      1000   \n",
       "1  Rua Aurelia Perez Alvarez, 42   Jardim dos Estados  São Paulo       496   \n",
       "2                 Rua Alba Valdez     Jardim Reimberg  São Paulo       125   \n",
       "3                             NaN      Jardim Morumbi  São Paulo       310   \n",
       "4        Rua Tobias Barreto, 195                Mooca  São Paulo       100   \n",
       "\n",
       "   Quartos  Banheiros  Vagas         Valor  \n",
       "0        4          8      6  R$ 7.000.000  \n",
       "1        4          4      4  R$ 3.700.000  \n",
       "2        4          3      2    R$ 380.000  \n",
       "3        3          2      4    R$ 685.000  \n",
       "4        3          2      2    R$ 540.000  "
      ]
     },
     "execution_count": 7,
     "metadata": {},
     "output_type": "execute_result"
    }
   ],
   "source": [
    "df_imoveis.head()"
   ]
  },
  {
   "cell_type": "code",
   "execution_count": 8,
   "metadata": {},
   "outputs": [
    {
     "data": {
      "text/plain": [
       "(10008, 8)"
      ]
     },
     "execution_count": 8,
     "metadata": {},
     "output_type": "execute_result"
    }
   ],
   "source": [
    "df_imoveis.shape"
   ]
  },
  {
   "cell_type": "code",
   "execution_count": 9,
   "metadata": {},
   "outputs": [
    {
     "name": "stdout",
     "output_type": "stream",
     "text": [
      "<class 'pandas.core.frame.DataFrame'>\n",
      "RangeIndex: 10008 entries, 0 to 10007\n",
      "Data columns (total 8 columns):\n",
      " #   Column     Non-Null Count  Dtype \n",
      "---  ------     --------------  ----- \n",
      " 0   Rua        6574 non-null   object\n",
      " 1   Bairro     9996 non-null   object\n",
      " 2   Cidade     10008 non-null  object\n",
      " 3   Metragem   10008 non-null  int64 \n",
      " 4   Quartos    10008 non-null  int64 \n",
      " 5   Banheiros  10008 non-null  int64 \n",
      " 6   Vagas      10008 non-null  int64 \n",
      " 7   Valor      10008 non-null  object\n",
      "dtypes: int64(4), object(4)\n",
      "memory usage: 625.6+ KB\n"
     ]
    }
   ],
   "source": [
    "df_imoveis.info()"
   ]
  },
  {
   "cell_type": "markdown",
   "metadata": {},
   "source": [
    "### Valores Nulos"
   ]
  },
  {
   "cell_type": "code",
   "execution_count": 10,
   "metadata": {},
   "outputs": [
    {
     "data": {
      "text/plain": [
       "Rua          3434\n",
       "Bairro         12\n",
       "Cidade          0\n",
       "Metragem        0\n",
       "Quartos         0\n",
       "Banheiros       0\n",
       "Vagas           0\n",
       "Valor           0\n",
       "dtype: int64"
      ]
     },
     "execution_count": 10,
     "metadata": {},
     "output_type": "execute_result"
    }
   ],
   "source": [
    "df_imoveis.isna().sum()"
   ]
  },
  {
   "cell_type": "markdown",
   "metadata": {},
   "source": [
    "As variáveis `Rua` e `Bairro` possuem valores nulos que precisam ser tratados posteriormente."
   ]
  },
  {
   "cell_type": "markdown",
   "metadata": {},
   "source": [
    "### Tipos dos dados"
   ]
  },
  {
   "cell_type": "code",
   "execution_count": 11,
   "metadata": {},
   "outputs": [
    {
     "data": {
      "text/plain": [
       "Rua          object\n",
       "Bairro       object\n",
       "Cidade       object\n",
       "Metragem      int64\n",
       "Quartos       int64\n",
       "Banheiros     int64\n",
       "Vagas         int64\n",
       "Valor        object\n",
       "dtype: object"
      ]
     },
     "execution_count": 11,
     "metadata": {},
     "output_type": "execute_result"
    }
   ],
   "source": [
    "df_imoveis.dtypes"
   ]
  },
  {
   "cell_type": "markdown",
   "metadata": {},
   "source": [
    "O tipo da coluna `Valor` está errado, devendo ser transformada para numérica de ponto flutuante."
   ]
  },
  {
   "cell_type": "code",
   "execution_count": 12,
   "metadata": {},
   "outputs": [
    {
     "data": {
      "text/plain": [
       "5222                            R$ 19.000.000\n",
       "9493                               R$ 320.000\n",
       "4726                               R$ 730.000\n",
       "9533                             R$ 1.750.000\n",
       "8321                             R$ 1.800.000\n",
       "5909                               R$ 500.000\n",
       "277     R$ 10.000\\n                      /Mês\n",
       "7684                               R$ 650.000\n",
       "554                              R$ 1.000.000\n",
       "8731                             R$ 5.800.000\n",
       "Name: Valor, dtype: object"
      ]
     },
     "execution_count": 12,
     "metadata": {},
     "output_type": "execute_result"
    }
   ],
   "source": [
    "df_imoveis['Valor'].sample(10)"
   ]
  },
  {
   "cell_type": "markdown",
   "metadata": {},
   "source": [
    "### Resolvendo Tipos de Dados Incorretos"
   ]
  },
  {
   "cell_type": "markdown",
   "metadata": {},
   "source": [
    "**Variável `Valor`**"
   ]
  },
  {
   "cell_type": "markdown",
   "metadata": {},
   "source": [
    "Aluguel Diário"
   ]
  },
  {
   "cell_type": "code",
   "execution_count": 13,
   "metadata": {},
   "outputs": [
    {
     "data": {
      "text/html": [
       "<div>\n",
       "<style scoped>\n",
       "    .dataframe tbody tr th:only-of-type {\n",
       "        vertical-align: middle;\n",
       "    }\n",
       "\n",
       "    .dataframe tbody tr th {\n",
       "        vertical-align: top;\n",
       "    }\n",
       "\n",
       "    .dataframe thead th {\n",
       "        text-align: right;\n",
       "    }\n",
       "</style>\n",
       "<table border=\"1\" class=\"dataframe\">\n",
       "  <thead>\n",
       "    <tr style=\"text-align: right;\">\n",
       "      <th></th>\n",
       "      <th>Rua</th>\n",
       "      <th>Bairro</th>\n",
       "      <th>Cidade</th>\n",
       "      <th>Metragem</th>\n",
       "      <th>Quartos</th>\n",
       "      <th>Banheiros</th>\n",
       "      <th>Vagas</th>\n",
       "      <th>Valor</th>\n",
       "    </tr>\n",
       "  </thead>\n",
       "  <tbody>\n",
       "    <tr>\n",
       "      <th>6639</th>\n",
       "      <td>NaN</td>\n",
       "      <td>Jardim Guedala</td>\n",
       "      <td>São Paulo</td>\n",
       "      <td>572</td>\n",
       "      <td>4</td>\n",
       "      <td>6</td>\n",
       "      <td>7</td>\n",
       "      <td>R$ 15.000\\n                      /Dia</td>\n",
       "    </tr>\n",
       "    <tr>\n",
       "      <th>7421</th>\n",
       "      <td>NaN</td>\n",
       "      <td>Jardim Guedala</td>\n",
       "      <td>São Paulo</td>\n",
       "      <td>577</td>\n",
       "      <td>4</td>\n",
       "      <td>6</td>\n",
       "      <td>7</td>\n",
       "      <td>R$ 15.000\\n                      /Dia</td>\n",
       "    </tr>\n",
       "  </tbody>\n",
       "</table>\n",
       "</div>"
      ],
      "text/plain": [
       "      Rua          Bairro     Cidade  Metragem  Quartos  Banheiros  Vagas  \\\n",
       "6639  NaN  Jardim Guedala  São Paulo       572        4          6      7   \n",
       "7421  NaN  Jardim Guedala  São Paulo       577        4          6      7   \n",
       "\n",
       "                                      Valor  \n",
       "6639  R$ 15.000\\n                      /Dia  \n",
       "7421  R$ 15.000\\n                      /Dia  "
      ]
     },
     "execution_count": 13,
     "metadata": {},
     "output_type": "execute_result"
    }
   ],
   "source": [
    "df_imoveis[df_imoveis['Valor'].str.contains('Dia')]"
   ]
  },
  {
   "cell_type": "markdown",
   "metadata": {},
   "source": [
    "Aluguel Mensal"
   ]
  },
  {
   "cell_type": "code",
   "execution_count": 14,
   "metadata": {},
   "outputs": [
    {
     "data": {
      "text/html": [
       "<div>\n",
       "<style scoped>\n",
       "    .dataframe tbody tr th:only-of-type {\n",
       "        vertical-align: middle;\n",
       "    }\n",
       "\n",
       "    .dataframe tbody tr th {\n",
       "        vertical-align: top;\n",
       "    }\n",
       "\n",
       "    .dataframe thead th {\n",
       "        text-align: right;\n",
       "    }\n",
       "</style>\n",
       "<table border=\"1\" class=\"dataframe\">\n",
       "  <thead>\n",
       "    <tr style=\"text-align: right;\">\n",
       "      <th></th>\n",
       "      <th>Rua</th>\n",
       "      <th>Bairro</th>\n",
       "      <th>Cidade</th>\n",
       "      <th>Metragem</th>\n",
       "      <th>Quartos</th>\n",
       "      <th>Banheiros</th>\n",
       "      <th>Vagas</th>\n",
       "      <th>Valor</th>\n",
       "    </tr>\n",
       "  </thead>\n",
       "  <tbody>\n",
       "    <tr>\n",
       "      <th>151</th>\n",
       "      <td>Rua Fonseca da Costa</td>\n",
       "      <td>Bosque da Saúde</td>\n",
       "      <td>São Paulo</td>\n",
       "      <td>650</td>\n",
       "      <td>4</td>\n",
       "      <td>6</td>\n",
       "      <td>12</td>\n",
       "      <td>R$ 11.000\\n                      /Mês</td>\n",
       "    </tr>\n",
       "    <tr>\n",
       "      <th>156</th>\n",
       "      <td>NaN</td>\n",
       "      <td>Jardim Paulistano</td>\n",
       "      <td>São Paulo</td>\n",
       "      <td>230</td>\n",
       "      <td>2</td>\n",
       "      <td>3</td>\n",
       "      <td>2</td>\n",
       "      <td>R$ 12.000\\n                      /Mês</td>\n",
       "    </tr>\n",
       "    <tr>\n",
       "      <th>175</th>\n",
       "      <td>Rua Maestro Elias Lobo</td>\n",
       "      <td>Jardim Paulista</td>\n",
       "      <td>São Paulo</td>\n",
       "      <td>542</td>\n",
       "      <td>5</td>\n",
       "      <td>8</td>\n",
       "      <td>4</td>\n",
       "      <td>R$ 25.000\\n                      /Mês</td>\n",
       "    </tr>\n",
       "    <tr>\n",
       "      <th>178</th>\n",
       "      <td>Rua Guararapes</td>\n",
       "      <td>Lapa</td>\n",
       "      <td>São Paulo</td>\n",
       "      <td>515</td>\n",
       "      <td>3</td>\n",
       "      <td>5</td>\n",
       "      <td>8</td>\n",
       "      <td>R$ 30.000\\n                      /Mês</td>\n",
       "    </tr>\n",
       "    <tr>\n",
       "      <th>182</th>\n",
       "      <td>Rua Alvarenga</td>\n",
       "      <td>Butantã</td>\n",
       "      <td>São Paulo</td>\n",
       "      <td>400</td>\n",
       "      <td>4</td>\n",
       "      <td>3</td>\n",
       "      <td>4</td>\n",
       "      <td>R$ 10.000\\n                      /Mês</td>\n",
       "    </tr>\n",
       "  </tbody>\n",
       "</table>\n",
       "</div>"
      ],
      "text/plain": [
       "                        Rua             Bairro     Cidade  Metragem  Quartos  \\\n",
       "151    Rua Fonseca da Costa    Bosque da Saúde  São Paulo       650        4   \n",
       "156                     NaN  Jardim Paulistano  São Paulo       230        2   \n",
       "175  Rua Maestro Elias Lobo    Jardim Paulista  São Paulo       542        5   \n",
       "178          Rua Guararapes               Lapa  São Paulo       515        3   \n",
       "182           Rua Alvarenga            Butantã  São Paulo       400        4   \n",
       "\n",
       "     Banheiros  Vagas                                  Valor  \n",
       "151          6     12  R$ 11.000\\n                      /Mês  \n",
       "156          3      2  R$ 12.000\\n                      /Mês  \n",
       "175          8      4  R$ 25.000\\n                      /Mês  \n",
       "178          5      8  R$ 30.000\\n                      /Mês  \n",
       "182          3      4  R$ 10.000\\n                      /Mês  "
      ]
     },
     "execution_count": 14,
     "metadata": {},
     "output_type": "execute_result"
    }
   ],
   "source": [
    "df_imoveis_alugar = df_imoveis[df_imoveis['Valor'].str.contains('Mês')]\n",
    "df_imoveis_alugar.head()"
   ]
  },
  {
   "cell_type": "code",
   "execution_count": 15,
   "metadata": {},
   "outputs": [
    {
     "name": "stdout",
     "output_type": "stream",
     "text": [
      "Porcentagem de imoveis para alugar: 8.47%\n"
     ]
    }
   ],
   "source": [
    "alugar_prct = df_imoveis_alugar.shape[0] / df_imoveis.shape[0]  * 100\n",
    "print(f\"Porcentagem de imoveis para alugar: {alugar_prct:.2f}%\")"
   ]
  },
  {
   "cell_type": "markdown",
   "metadata": {},
   "source": [
    "Aluguel Anual"
   ]
  },
  {
   "cell_type": "code",
   "execution_count": 16,
   "metadata": {},
   "outputs": [
    {
     "data": {
      "text/html": [
       "<div>\n",
       "<style scoped>\n",
       "    .dataframe tbody tr th:only-of-type {\n",
       "        vertical-align: middle;\n",
       "    }\n",
       "\n",
       "    .dataframe tbody tr th {\n",
       "        vertical-align: top;\n",
       "    }\n",
       "\n",
       "    .dataframe thead th {\n",
       "        text-align: right;\n",
       "    }\n",
       "</style>\n",
       "<table border=\"1\" class=\"dataframe\">\n",
       "  <thead>\n",
       "    <tr style=\"text-align: right;\">\n",
       "      <th></th>\n",
       "      <th>Rua</th>\n",
       "      <th>Bairro</th>\n",
       "      <th>Cidade</th>\n",
       "      <th>Metragem</th>\n",
       "      <th>Quartos</th>\n",
       "      <th>Banheiros</th>\n",
       "      <th>Vagas</th>\n",
       "      <th>Valor</th>\n",
       "    </tr>\n",
       "  </thead>\n",
       "  <tbody>\n",
       "    <tr>\n",
       "      <th>6029</th>\n",
       "      <td>NaN</td>\n",
       "      <td>Instituto de Previdência</td>\n",
       "      <td>São Paulo</td>\n",
       "      <td>120</td>\n",
       "      <td>3</td>\n",
       "      <td>1</td>\n",
       "      <td>2</td>\n",
       "      <td>R$ 2.600\\n                      /Ano</td>\n",
       "    </tr>\n",
       "    <tr>\n",
       "      <th>6718</th>\n",
       "      <td>NaN</td>\n",
       "      <td>Instituto de Previdência</td>\n",
       "      <td>São Paulo</td>\n",
       "      <td>125</td>\n",
       "      <td>3</td>\n",
       "      <td>1</td>\n",
       "      <td>2</td>\n",
       "      <td>R$ 2.600\\n                      /Ano</td>\n",
       "    </tr>\n",
       "  </tbody>\n",
       "</table>\n",
       "</div>"
      ],
      "text/plain": [
       "      Rua                    Bairro     Cidade  Metragem  Quartos  Banheiros  \\\n",
       "6029  NaN  Instituto de Previdência  São Paulo       120        3          1   \n",
       "6718  NaN  Instituto de Previdência  São Paulo       125        3          1   \n",
       "\n",
       "      Vagas                                 Valor  \n",
       "6029      2  R$ 2.600\\n                      /Ano  \n",
       "6718      2  R$ 2.600\\n                      /Ano  "
      ]
     },
     "execution_count": 16,
     "metadata": {},
     "output_type": "execute_result"
    }
   ],
   "source": [
    "df_imoveis[df_imoveis['Valor'].str.contains('Ano')]"
   ]
  },
  {
   "cell_type": "code",
   "execution_count": 17,
   "metadata": {},
   "outputs": [],
   "source": [
    "# Deletando os imóveis de aluguel DIÁRIO\n",
    "df_imoveis.drop(df_imoveis[df_imoveis['Valor'].str.contains('Dia')].index, inplace=True)\n",
    "\n",
    "# Deletando e salvando os imóveis de aluguel MENSAL\n",
    "df_imoveis.drop(df_imoveis_alugar.index, inplace=True)\n",
    "df_imoveis_alugar.to_csv('./dados/dados_imoveis_alugar.csv')\n",
    "\n",
    "# Deletando os imóveis de aluguel ANUAL\n",
    "df_imoveis.drop(df_imoveis[df_imoveis['Valor'].str.contains('Ano')].index, inplace=True)"
   ]
  },
  {
   "cell_type": "markdown",
   "metadata": {},
   "source": [
    "A partir da nossa análise, descobrimos que o dataset de imóveis não somente compreende casas para vender, mas também casas para alugar. Essas casas correspondem a cerca de 8.47% do dataset completo, nossa decisão foi salvar esses dados em um arquivo .csv único, que separa essas casas do restante e nos permite posteriormente realizar análises direcionadas para elas."
   ]
  },
  {
   "cell_type": "markdown",
   "metadata": {},
   "source": [
    "**Resolvendo o tipo incorreto**"
   ]
  },
  {
   "cell_type": "code",
   "execution_count": 18,
   "metadata": {},
   "outputs": [
    {
     "data": {
      "text/plain": [
       "3844     R$ 4.850.000\n",
       "6037    R$ 11.000.000\n",
       "8372     R$ 3.900.000\n",
       "6850     R$ 8.100.000\n",
       "563      R$ 3.800.000\n",
       "Name: Valor, dtype: object"
      ]
     },
     "execution_count": 18,
     "metadata": {},
     "output_type": "execute_result"
    }
   ],
   "source": [
    "df_imoveis['Valor'].sample(5)"
   ]
  },
  {
   "cell_type": "code",
   "execution_count": 19,
   "metadata": {},
   "outputs": [
    {
     "name": "stderr",
     "output_type": "stream",
     "text": [
      "/tmp/ipykernel_18217/3104495581.py:1: FutureWarning: The default value of regex will change from True to False in a future version. In addition, single character regular expressions will *not* be treated as literal strings when regex=True.\n",
      "  df_imoveis['Valor'] = df_imoveis['Valor']\\\n"
     ]
    }
   ],
   "source": [
    "df_imoveis['Valor'] = df_imoveis['Valor']\\\n",
    "    .str.replace('R\\$|,', '', regex=True)\\\n",
    "        .str.replace('.', '').str.strip()"
   ]
  },
  {
   "cell_type": "code",
   "execution_count": 20,
   "metadata": {},
   "outputs": [
    {
     "data": {
      "text/plain": [
       "4821    4000000\n",
       "7086    1800000\n",
       "9802    1200000\n",
       "8312     500000\n",
       "8797     520000\n",
       "Name: Valor, dtype: int64"
      ]
     },
     "execution_count": 20,
     "metadata": {},
     "output_type": "execute_result"
    }
   ],
   "source": [
    "df_imoveis['Valor'] = df_imoveis['Valor'].astype(int)\n",
    "df_imoveis['Valor'].sample(5)"
   ]
  },
  {
   "cell_type": "markdown",
   "metadata": {},
   "source": [
    "## Criando novas Variáveis"
   ]
  },
  {
   "cell_type": "markdown",
   "metadata": {},
   "source": [
    "`Valor_m2`\n",
    "\n",
    "Criando variável para o valor do metro quadrado dos imóveis em cima dos valores das variáveis Valor e Metragem."
   ]
  },
  {
   "cell_type": "code",
   "execution_count": 21,
   "metadata": {},
   "outputs": [],
   "source": [
    "df_imoveis['Valor_m2'] = df_imoveis['Valor'] / df_imoveis['Metragem']"
   ]
  },
  {
   "cell_type": "code",
   "execution_count": 22,
   "metadata": {},
   "outputs": [
    {
     "data": {
      "text/plain": [
       "7788    2567.57\n",
       "9322    6565.79\n",
       "9331    5281.69\n",
       "5860   14257.41\n",
       "9556   19735.10\n",
       "Name: Valor_m2, dtype: float64"
      ]
     },
     "execution_count": 22,
     "metadata": {},
     "output_type": "execute_result"
    }
   ],
   "source": [
    "df_imoveis['Valor_m2'].sample(5)"
   ]
  },
  {
   "cell_type": "markdown",
   "metadata": {},
   "source": [
    "# Calculando Estatísticas"
   ]
  },
  {
   "cell_type": "code",
   "execution_count": 23,
   "metadata": {},
   "outputs": [
    {
     "data": {
      "text/html": [
       "<div>\n",
       "<style scoped>\n",
       "    .dataframe tbody tr th:only-of-type {\n",
       "        vertical-align: middle;\n",
       "    }\n",
       "\n",
       "    .dataframe tbody tr th {\n",
       "        vertical-align: top;\n",
       "    }\n",
       "\n",
       "    .dataframe thead th {\n",
       "        text-align: right;\n",
       "    }\n",
       "</style>\n",
       "<table border=\"1\" class=\"dataframe\">\n",
       "  <thead>\n",
       "    <tr style=\"text-align: right;\">\n",
       "      <th></th>\n",
       "      <th>Quantidade</th>\n",
       "      <th>Média</th>\n",
       "      <th>Desvio Padrão</th>\n",
       "      <th>Mínimo</th>\n",
       "      <th>Q1</th>\n",
       "      <th>Mediana/Q2</th>\n",
       "      <th>Q3</th>\n",
       "      <th>Máximo</th>\n",
       "    </tr>\n",
       "  </thead>\n",
       "  <tbody>\n",
       "    <tr>\n",
       "      <th>Metragem</th>\n",
       "      <td>9156.00</td>\n",
       "      <td>434.42</td>\n",
       "      <td>7856.42</td>\n",
       "      <td>10.00</td>\n",
       "      <td>168.00</td>\n",
       "      <td>276.00</td>\n",
       "      <td>450.00</td>\n",
       "      <td>750000.00</td>\n",
       "    </tr>\n",
       "    <tr>\n",
       "      <th>Quartos</th>\n",
       "      <td>9156.00</td>\n",
       "      <td>3.45</td>\n",
       "      <td>1.05</td>\n",
       "      <td>1.00</td>\n",
       "      <td>3.00</td>\n",
       "      <td>3.00</td>\n",
       "      <td>4.00</td>\n",
       "      <td>16.00</td>\n",
       "    </tr>\n",
       "    <tr>\n",
       "      <th>Banheiros</th>\n",
       "      <td>9156.00</td>\n",
       "      <td>3.80</td>\n",
       "      <td>1.97</td>\n",
       "      <td>1.00</td>\n",
       "      <td>2.00</td>\n",
       "      <td>4.00</td>\n",
       "      <td>5.00</td>\n",
       "      <td>40.00</td>\n",
       "    </tr>\n",
       "    <tr>\n",
       "      <th>Vagas</th>\n",
       "      <td>9156.00</td>\n",
       "      <td>3.96</td>\n",
       "      <td>2.60</td>\n",
       "      <td>1.00</td>\n",
       "      <td>2.00</td>\n",
       "      <td>4.00</td>\n",
       "      <td>5.00</td>\n",
       "      <td>50.00</td>\n",
       "    </tr>\n",
       "    <tr>\n",
       "      <th>Valor</th>\n",
       "      <td>9156.00</td>\n",
       "      <td>3052202.96</td>\n",
       "      <td>3944208.19</td>\n",
       "      <td>13000.00</td>\n",
       "      <td>890000.00</td>\n",
       "      <td>1800000.00</td>\n",
       "      <td>3500000.00</td>\n",
       "      <td>65000000.00</td>\n",
       "    </tr>\n",
       "    <tr>\n",
       "      <th>Valor_m2</th>\n",
       "      <td>9156.00</td>\n",
       "      <td>8004.07</td>\n",
       "      <td>5291.32</td>\n",
       "      <td>9.33</td>\n",
       "      <td>4750.00</td>\n",
       "      <td>6500.00</td>\n",
       "      <td>9453.78</td>\n",
       "      <td>80000.00</td>\n",
       "    </tr>\n",
       "  </tbody>\n",
       "</table>\n",
       "</div>"
      ],
      "text/plain": [
       "           Quantidade      Média  Desvio Padrão   Mínimo        Q1  \\\n",
       "Metragem      9156.00     434.42        7856.42    10.00    168.00   \n",
       "Quartos       9156.00       3.45           1.05     1.00      3.00   \n",
       "Banheiros     9156.00       3.80           1.97     1.00      2.00   \n",
       "Vagas         9156.00       3.96           2.60     1.00      2.00   \n",
       "Valor         9156.00 3052202.96     3944208.19 13000.00 890000.00   \n",
       "Valor_m2      9156.00    8004.07        5291.32     9.33   4750.00   \n",
       "\n",
       "           Mediana/Q2         Q3      Máximo  \n",
       "Metragem       276.00     450.00   750000.00  \n",
       "Quartos          3.00       4.00       16.00  \n",
       "Banheiros        4.00       5.00       40.00  \n",
       "Vagas            4.00       5.00       50.00  \n",
       "Valor      1800000.00 3500000.00 65000000.00  \n",
       "Valor_m2      6500.00    9453.78    80000.00  "
      ]
     },
     "execution_count": 23,
     "metadata": {},
     "output_type": "execute_result"
    }
   ],
   "source": [
    "df_imoveis.describe().rename({'count': 'Quantidade', 'max': 'Máximo', 'min': 'Mínimo', '50%': 'Mediana/Q2', 'mean': 'Média', '25%': 'Q1', '75%': 'Q3', 'std': 'Desvio Padrão'}).T"
   ]
  },
  {
   "cell_type": "markdown",
   "metadata": {},
   "source": [
    "# Análise Exploratória dos Dados"
   ]
  },
  {
   "cell_type": "markdown",
   "metadata": {},
   "source": [
    "## Imprimindo BoxPlots"
   ]
  },
  {
   "cell_type": "code",
   "execution_count": 25,
   "metadata": {},
   "outputs": [
    {
     "name": "stderr",
     "output_type": "stream",
     "text": [
      "/tmp/ipykernel_18217/1718034323.py:2: FutureWarning: The default value of numeric_only in DataFrame.quantile is deprecated. In a future version, it will default to False. Select only valid columns or specify the value of numeric_only to silence this warning.\n",
      "  q1 = series.quantile(0.25)\n",
      "/tmp/ipykernel_18217/1718034323.py:3: FutureWarning: The default value of numeric_only in DataFrame.quantile is deprecated. In a future version, it will default to False. Select only valid columns or specify the value of numeric_only to silence this warning.\n",
      "  q3 = series.quantile(0.75)\n",
      "/tmp/ipykernel_18217/1718034323.py:9: FutureWarning: Automatic reindexing on DataFrame vs Series comparisons is deprecated and will raise ValueError in a future version. Do `left, right = left.align(right, axis=1, copy=False)` before e.g. `left == right`\n",
      "  filtered_series = series[(series >= lower_limit) & (series <= upper_limit)]\n"
     ]
    },
    {
     "data": {
      "image/png": "[encoded data removed]",
      "text/plain": [
       "<Figure size 2500x1500 with 1 Axes>"
      ]
     },
     "metadata": {},
     "output_type": "display_data"
    }
   ],
   "source": [
    "fig, ax = plt.subplots(figsize=(25, 15))\n",
    "\n",
    "sns.violinplot(data=remove_outliers_tucker(df_imoveis), y='Metragem')\n",
    "\n",
    "plt.show()"
   ]
  },
  {
   "cell_type": "code",
   "execution_count": 27,
   "metadata": {},
   "outputs": [
    {
     "name": "stderr",
     "output_type": "stream",
     "text": [
      "/tmp/ipykernel_18217/1718034323.py:2: FutureWarning: The default value of numeric_only in DataFrame.quantile is deprecated. In a future version, it will default to False. Select only valid columns or specify the value of numeric_only to silence this warning.\n",
      "  q1 = series.quantile(0.25)\n",
      "/tmp/ipykernel_18217/1718034323.py:3: FutureWarning: The default value of numeric_only in DataFrame.quantile is deprecated. In a future version, it will default to False. Select only valid columns or specify the value of numeric_only to silence this warning.\n",
      "  q3 = series.quantile(0.75)\n",
      "/tmp/ipykernel_18217/1718034323.py:9: FutureWarning: Automatic reindexing on DataFrame vs Series comparisons is deprecated and will raise ValueError in a future version. Do `left, right = left.align(right, axis=1, copy=False)` before e.g. `left == right`\n",
      "  filtered_series = series[(series >= lower_limit) & (series <= upper_limit)]\n"
     ]
    },
    {
     "data": {
      "text/plain": [
       "<AxesSubplot:xlabel='Metragem', ylabel='Count'>"
      ]
     },
     "execution_count": 27,
     "metadata": {},
     "output_type": "execute_result"
    },
    {
     "data": {
      "image/png": "[encoded data removed]",
      "text/plain": [
       "<Figure size 640x480 with 1 Axes>"
      ]
     },
     "metadata": {},
     "output_type": "display_data"
    }
   ],
   "source": [
    "sns.histplot(data=remove_outliers_tucker(df_imoveis), x='Metragem')"
   ]
  },
  {
   "cell_type": "markdown",
   "metadata": {},
   "source": [
    "## Respondendo as Perguntas"
   ]
  },
  {
   "cell_type": "markdown",
   "metadata": {},
   "source": [
    "1) **Quais os bairros onde os imóveis são mais valorizados, na média?**"
   ]
  },
  {
   "cell_type": "code",
   "execution_count": null,
   "metadata": {},
   "outputs": [],
   "source": [
    "df_p1 = df_imoveis.groupby('Bairro').agg({'Valor': 'mean'}).sort_values(by='Valor', ascending=False)\\\n",
    "    .reset_index()\n",
    "df_p2 = df_imoveis.groupby('Bairro').agg({'Valor': 'median'}).sort_values(by='Valor', ascending=False)\\\n",
    "    .reset_index()"
   ]
  },
  {
   "cell_type": "code",
   "execution_count": null,
   "metadata": {},
   "outputs": [
    {
     "data": {
      "image/png": "[encoded data removed]",
      "text/plain": [
       "<Figure size 2500x1000 with 1 Axes>"
      ]
     },
     "metadata": {},
     "output_type": "display_data"
    }
   ],
   "source": [
    "fig, ax = plt.subplots(figsize=(25, 10))\n",
    "\n",
    "sns.barplot(data=df_p1[:10], x='Bairro', y='Valor', ax=ax)\n",
    "ax.set_title('TOP 10 Bairros por Valor Médio', size=28)\n",
    "ax.set_ylabel('Preço médio (milhões de reais)', size=22)\n",
    "ax.set_xlabel('Bairro', size=22)\n",
    "\n",
    "plt.show()"
   ]
  },
  {
   "cell_type": "code",
   "execution_count": null,
   "metadata": {},
   "outputs": [
    {
     "data": {
      "image/png": "[encoded data removed]",
      "text/plain": [
       "<Figure size 2500x1000 with 1 Axes>"
      ]
     },
     "metadata": {},
     "output_type": "display_data"
    }
   ],
   "source": [
    "fig, ax = plt.subplots(figsize=(25, 10))\n",
    "\n",
    "sns.barplot(data=df_p2[:10], x='Bairro', y='Valor', ax=ax)\n",
    "ax.set_title('TOP 10 Bairros por Valor Mediano', size=28)\n",
    "ax.set_ylabel('Preço mediano (milhões de reais)', size=22)\n",
    "ax.set_xlabel('Bairro', size=22)\n",
    "\n",
    "plt.show()"
   ]
  },
  {
   "cell_type": "code",
   "execution_count": null,
   "metadata": {},
   "outputs": [],
   "source": []
  }
 ],
 "metadata": {
  "kernelspec": {
   "display_name": "minimal_ds",
   "language": "python",
   "name": "python3"
  },
  "language_info": {
   "codemirror_mode": {
    "name": "ipython",
    "version": 3
   },
   "file_extension": ".py",
   "mimetype": "text/x-python",
   "name": "python",
   "nbconvert_exporter": "python",
   "pygments_lexer": "ipython3",
   "version": "3.8.10"
  },
  "orig_nbformat": 4
 },
 "nbformat": 4,
 "nbformat_minor": 2
}
