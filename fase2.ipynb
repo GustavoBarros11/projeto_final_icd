{
 "cells": [
  {
   "cell_type": "markdown",
   "metadata": {},
   "source": [
    "## 0.0) Importando Bibliotecas"
   ]
  },
  {
   "cell_type": "code",
   "execution_count": 5,
   "metadata": {},
   "outputs": [
    {
     "name": "stdout",
     "output_type": "stream",
     "text": [
      "Requirement already satisfied: chardet in /home/gustavos/anaconda3/envs/minimal_ds/lib/python3.8/site-packages (5.2.0)\n"
     ]
    }
   ],
   "source": [
    "import sys\n",
    "import pandas as pd\n",
    "import seaborn as sns\n",
    "import matplotlib.pyplot as plt\n",
    "\n",
    "!{sys.executable} -m pip install chardet\n",
    "import chardet"
   ]
  },
  {
   "cell_type": "markdown",
   "metadata": {},
   "source": [
    "## 0.1) Carregando os Dados"
   ]
  },
  {
   "cell_type": "markdown",
   "metadata": {},
   "source": [
    "Carregando dataset de imóveis"
   ]
  },
  {
   "cell_type": "code",
   "execution_count": 6,
   "metadata": {},
   "outputs": [
    {
     "data": {
      "text/html": [
       "<div>\n",
       "<style scoped>\n",
       "    .dataframe tbody tr th:only-of-type {\n",
       "        vertical-align: middle;\n",
       "    }\n",
       "\n",
       "    .dataframe tbody tr th {\n",
       "        vertical-align: top;\n",
       "    }\n",
       "\n",
       "    .dataframe thead th {\n",
       "        text-align: right;\n",
       "    }\n",
       "</style>\n",
       "<table border=\"1\" class=\"dataframe\">\n",
       "  <thead>\n",
       "    <tr style=\"text-align: right;\">\n",
       "      <th></th>\n",
       "      <th>Rua</th>\n",
       "      <th>Bairro</th>\n",
       "      <th>Cidade</th>\n",
       "      <th>Metragem</th>\n",
       "      <th>Quartos</th>\n",
       "      <th>Banheiros</th>\n",
       "      <th>Vagas</th>\n",
       "      <th>Valor</th>\n",
       "    </tr>\n",
       "  </thead>\n",
       "  <tbody>\n",
       "    <tr>\n",
       "      <th>0</th>\n",
       "      <td>Avenida Itacira, 255</td>\n",
       "      <td>Planalto Paulista</td>\n",
       "      <td>São Paulo</td>\n",
       "      <td>1000</td>\n",
       "      <td>4</td>\n",
       "      <td>8</td>\n",
       "      <td>6</td>\n",
       "      <td>R$ 7.000.000</td>\n",
       "    </tr>\n",
       "    <tr>\n",
       "      <th>1</th>\n",
       "      <td>Rua Aurelia Perez Alvarez, 42</td>\n",
       "      <td>Jardim dos Estados</td>\n",
       "      <td>São Paulo</td>\n",
       "      <td>496</td>\n",
       "      <td>4</td>\n",
       "      <td>4</td>\n",
       "      <td>4</td>\n",
       "      <td>R$ 3.700.000</td>\n",
       "    </tr>\n",
       "    <tr>\n",
       "      <th>2</th>\n",
       "      <td>Rua Alba Valdez</td>\n",
       "      <td>Jardim Reimberg</td>\n",
       "      <td>São Paulo</td>\n",
       "      <td>125</td>\n",
       "      <td>4</td>\n",
       "      <td>3</td>\n",
       "      <td>2</td>\n",
       "      <td>R$ 380.000</td>\n",
       "    </tr>\n",
       "    <tr>\n",
       "      <th>3</th>\n",
       "      <td>NaN</td>\n",
       "      <td>Jardim Morumbi</td>\n",
       "      <td>São Paulo</td>\n",
       "      <td>310</td>\n",
       "      <td>3</td>\n",
       "      <td>2</td>\n",
       "      <td>4</td>\n",
       "      <td>R$ 685.000</td>\n",
       "    </tr>\n",
       "    <tr>\n",
       "      <th>4</th>\n",
       "      <td>Rua Tobias Barreto, 195</td>\n",
       "      <td>Mooca</td>\n",
       "      <td>São Paulo</td>\n",
       "      <td>100</td>\n",
       "      <td>3</td>\n",
       "      <td>2</td>\n",
       "      <td>2</td>\n",
       "      <td>R$ 540.000</td>\n",
       "    </tr>\n",
       "  </tbody>\n",
       "</table>\n",
       "</div>"
      ],
      "text/plain": [
       "                              Rua              Bairro     Cidade  Metragem  \\\n",
       "0           Avenida Itacira, 255    Planalto Paulista  São Paulo      1000   \n",
       "1  Rua Aurelia Perez Alvarez, 42   Jardim dos Estados  São Paulo       496   \n",
       "2                 Rua Alba Valdez     Jardim Reimberg  São Paulo       125   \n",
       "3                             NaN      Jardim Morumbi  São Paulo       310   \n",
       "4        Rua Tobias Barreto, 195                Mooca  São Paulo       100   \n",
       "\n",
       "   Quartos  Banheiros  Vagas         Valor  \n",
       "0        4          8      6  R$ 7.000.000  \n",
       "1        4          4      4  R$ 3.700.000  \n",
       "2        4          3      2    R$ 380.000  \n",
       "3        3          2      4    R$ 685.000  \n",
       "4        3          2      2    R$ 540.000  "
      ]
     },
     "execution_count": 6,
     "metadata": {},
     "output_type": "execute_result"
    }
   ],
   "source": [
    "df_imoveis = pd.read_csv('./dados/dados_imoveis.csv')\n",
    "df_imoveis.head()"
   ]
  },
  {
   "cell_type": "markdown",
   "metadata": {},
   "source": [
    "Carregando dataset do IBGE"
   ]
  },
  {
   "cell_type": "code",
   "execution_count": 7,
   "metadata": {},
   "outputs": [
    {
     "name": "stdout",
     "output_type": "stream",
     "text": [
      "{'encoding': 'utf-8', 'confidence': 0.99, 'language': ''}\n"
     ]
    }
   ],
   "source": [
    "# Olhar os 10000 primeiros bytes do arquivo para deduzir o enconding dos caracteres\n",
    "# para então importar corretamente os dados em um Pandas Dataframe\n",
    "with open(\"./dados/basico_sp1.csv\", 'rb') as rawdata:\n",
    "    result = chardet.detect(rawdata.read(10000))\n",
    "\n",
    "print(result)"
   ]
  },
  {
   "cell_type": "code",
   "execution_count": 8,
   "metadata": {},
   "outputs": [
    {
     "data": {
      "text/html": [
       "<div>\n",
       "<style scoped>\n",
       "    .dataframe tbody tr th:only-of-type {\n",
       "        vertical-align: middle;\n",
       "    }\n",
       "\n",
       "    .dataframe tbody tr th {\n",
       "        vertical-align: top;\n",
       "    }\n",
       "\n",
       "    .dataframe thead th {\n",
       "        text-align: right;\n",
       "    }\n",
       "</style>\n",
       "<table border=\"1\" class=\"dataframe\">\n",
       "  <thead>\n",
       "    <tr style=\"text-align: right;\">\n",
       "      <th></th>\n",
       "      <th>Cod_setor</th>\n",
       "      <th>Cod_Grandes Regi�es</th>\n",
       "      <th>Nome_Grande_Regiao</th>\n",
       "      <th>Cod_UF</th>\n",
       "      <th>Nome_da_UF</th>\n",
       "      <th>Cod_meso</th>\n",
       "      <th>Nome_da_meso</th>\n",
       "      <th>Cod_micro</th>\n",
       "      <th>Nome_da_micro</th>\n",
       "      <th>Cod_RM</th>\n",
       "      <th>...</th>\n",
       "      <th>V003</th>\n",
       "      <th>V004</th>\n",
       "      <th>V005</th>\n",
       "      <th>V006</th>\n",
       "      <th>V007</th>\n",
       "      <th>V008</th>\n",
       "      <th>V009</th>\n",
       "      <th>V010</th>\n",
       "      <th>V011</th>\n",
       "      <th>V012</th>\n",
       "    </tr>\n",
       "  </thead>\n",
       "  <tbody>\n",
       "    <tr>\n",
       "      <th>0</th>\n",
       "      <td>355030801000001</td>\n",
       "      <td>3</td>\n",
       "      <td>Regi�o Sudeste</td>\n",
       "      <td>35</td>\n",
       "      <td>S�o Paulo</td>\n",
       "      <td>3515</td>\n",
       "      <td>Metropolitana de S�o Paulo</td>\n",
       "      <td>35061</td>\n",
       "      <td>S�o Paulo</td>\n",
       "      <td>20</td>\n",
       "      <td>...</td>\n",
       "      <td>3.01</td>\n",
       "      <td>2.32</td>\n",
       "      <td>2091.32</td>\n",
       "      <td>8532451.78</td>\n",
       "      <td>2164.55</td>\n",
       "      <td>8673276.78</td>\n",
       "      <td>1227.41</td>\n",
       "      <td>4285771.99</td>\n",
       "      <td>1713.75</td>\n",
       "      <td>5152087.86</td>\n",
       "    </tr>\n",
       "    <tr>\n",
       "      <th>1</th>\n",
       "      <td>355030801000002</td>\n",
       "      <td>3</td>\n",
       "      <td>Regi�o Sudeste</td>\n",
       "      <td>35</td>\n",
       "      <td>S�o Paulo</td>\n",
       "      <td>3515</td>\n",
       "      <td>Metropolitana de S�o Paulo</td>\n",
       "      <td>35061</td>\n",
       "      <td>S�o Paulo</td>\n",
       "      <td>20</td>\n",
       "      <td>...</td>\n",
       "      <td>2.98</td>\n",
       "      <td>2.09</td>\n",
       "      <td>1650.09</td>\n",
       "      <td>3983441.31</td>\n",
       "      <td>1717.44</td>\n",
       "      <td>4030519.99</td>\n",
       "      <td>1045.78</td>\n",
       "      <td>2572133.32</td>\n",
       "      <td>1468.08</td>\n",
       "      <td>2991546.94</td>\n",
       "    </tr>\n",
       "    <tr>\n",
       "      <th>2</th>\n",
       "      <td>355030801000003</td>\n",
       "      <td>3</td>\n",
       "      <td>Regi�o Sudeste</td>\n",
       "      <td>35</td>\n",
       "      <td>S�o Paulo</td>\n",
       "      <td>3515</td>\n",
       "      <td>Metropolitana de S�o Paulo</td>\n",
       "      <td>35061</td>\n",
       "      <td>S�o Paulo</td>\n",
       "      <td>20</td>\n",
       "      <td>...</td>\n",
       "      <td>3.31</td>\n",
       "      <td>3.08</td>\n",
       "      <td>1280.43</td>\n",
       "      <td>5474593.06</td>\n",
       "      <td>2349.53</td>\n",
       "      <td>7553913.02</td>\n",
       "      <td>902.97</td>\n",
       "      <td>2735492.52</td>\n",
       "      <td>1786.79</td>\n",
       "      <td>3837674.74</td>\n",
       "    </tr>\n",
       "    <tr>\n",
       "      <th>3</th>\n",
       "      <td>355030801000004</td>\n",
       "      <td>3</td>\n",
       "      <td>Regi�o Sudeste</td>\n",
       "      <td>35</td>\n",
       "      <td>S�o Paulo</td>\n",
       "      <td>3515</td>\n",
       "      <td>Metropolitana de S�o Paulo</td>\n",
       "      <td>35061</td>\n",
       "      <td>S�o Paulo</td>\n",
       "      <td>20</td>\n",
       "      <td>...</td>\n",
       "      <td>3.16</td>\n",
       "      <td>2.26</td>\n",
       "      <td>1119.59</td>\n",
       "      <td>3572955.10</td>\n",
       "      <td>1859.13</td>\n",
       "      <td>4567289.50</td>\n",
       "      <td>869.09</td>\n",
       "      <td>2122409.02</td>\n",
       "      <td>1567.41</td>\n",
       "      <td>2735383.24</td>\n",
       "    </tr>\n",
       "    <tr>\n",
       "      <th>4</th>\n",
       "      <td>355030801000005</td>\n",
       "      <td>3</td>\n",
       "      <td>Regi�o Sudeste</td>\n",
       "      <td>35</td>\n",
       "      <td>S�o Paulo</td>\n",
       "      <td>3515</td>\n",
       "      <td>Metropolitana de S�o Paulo</td>\n",
       "      <td>35061</td>\n",
       "      <td>S�o Paulo</td>\n",
       "      <td>20</td>\n",
       "      <td>...</td>\n",
       "      <td>3.14</td>\n",
       "      <td>2.35</td>\n",
       "      <td>1416.90</td>\n",
       "      <td>2240207.58</td>\n",
       "      <td>1581.66</td>\n",
       "      <td>2240109.39</td>\n",
       "      <td>917.71</td>\n",
       "      <td>1570047.75</td>\n",
       "      <td>1356.35</td>\n",
       "      <td>1725877.85</td>\n",
       "    </tr>\n",
       "  </tbody>\n",
       "</table>\n",
       "<p>5 rows × 33 columns</p>\n",
       "</div>"
      ],
      "text/plain": [
       "         Cod_setor  Cod_Grandes Regi�es Nome_Grande_Regiao  Cod_UF  \\\n",
       "0  355030801000001                    3     Regi�o Sudeste      35   \n",
       "1  355030801000002                    3     Regi�o Sudeste      35   \n",
       "2  355030801000003                    3     Regi�o Sudeste      35   \n",
       "3  355030801000004                    3     Regi�o Sudeste      35   \n",
       "4  355030801000005                    3     Regi�o Sudeste      35   \n",
       "\n",
       "  Nome_da_UF   Cod_meso                Nome_da_meso  Cod_micro Nome_da_micro  \\\n",
       "0   S�o Paulo      3515  Metropolitana de S�o Paulo      35061     S�o Paulo   \n",
       "1   S�o Paulo      3515  Metropolitana de S�o Paulo      35061     S�o Paulo   \n",
       "2   S�o Paulo      3515  Metropolitana de S�o Paulo      35061     S�o Paulo   \n",
       "3   S�o Paulo      3515  Metropolitana de S�o Paulo      35061     S�o Paulo   \n",
       "4   S�o Paulo      3515  Metropolitana de S�o Paulo      35061     S�o Paulo   \n",
       "\n",
       "   Cod_RM  ...  V003  V004     V005        V006     V007        V008     V009  \\\n",
       "0      20  ...  3.01  2.32  2091.32  8532451.78  2164.55  8673276.78  1227.41   \n",
       "1      20  ...  2.98  2.09  1650.09  3983441.31  1717.44  4030519.99  1045.78   \n",
       "2      20  ...  3.31  3.08  1280.43  5474593.06  2349.53  7553913.02   902.97   \n",
       "3      20  ...  3.16  2.26  1119.59  3572955.10  1859.13  4567289.50   869.09   \n",
       "4      20  ...  3.14  2.35  1416.90  2240207.58  1581.66  2240109.39   917.71   \n",
       "\n",
       "         V010     V011        V012  \n",
       "0  4285771.99  1713.75  5152087.86  \n",
       "1  2572133.32  1468.08  2991546.94  \n",
       "2  2735492.52  1786.79  3837674.74  \n",
       "3  2122409.02  1567.41  2735383.24  \n",
       "4  1570047.75  1356.35  1725877.85  \n",
       "\n",
       "[5 rows x 33 columns]"
      ]
     },
     "execution_count": 8,
     "metadata": {},
     "output_type": "execute_result"
    }
   ],
   "source": [
    "# Importando a base de dados do IBGE\n",
    "df_ibge = pd.read_csv( './dados/basico_sp1.csv', sep=\";\", encoding='utf-8', thousands=\".\", decimal=\",\", engine=\"python\" )\n",
    "df_ibge.dropna(how='all', axis=1, inplace=True)\n",
    "df_ibge.head()"
   ]
  },
  {
   "cell_type": "markdown",
   "metadata": {},
   "source": [
    "# 1) Descrição dos Dados"
   ]
  },
  {
   "cell_type": "code",
   "execution_count": 9,
   "metadata": {},
   "outputs": [
    {
     "data": {
      "text/html": [
       "<div>\n",
       "<style scoped>\n",
       "    .dataframe tbody tr th:only-of-type {\n",
       "        vertical-align: middle;\n",
       "    }\n",
       "\n",
       "    .dataframe tbody tr th {\n",
       "        vertical-align: top;\n",
       "    }\n",
       "\n",
       "    .dataframe thead th {\n",
       "        text-align: right;\n",
       "    }\n",
       "</style>\n",
       "<table border=\"1\" class=\"dataframe\">\n",
       "  <thead>\n",
       "    <tr style=\"text-align: right;\">\n",
       "      <th></th>\n",
       "      <th>Rua</th>\n",
       "      <th>Bairro</th>\n",
       "      <th>Cidade</th>\n",
       "      <th>Metragem</th>\n",
       "      <th>Quartos</th>\n",
       "      <th>Banheiros</th>\n",
       "      <th>Vagas</th>\n",
       "      <th>Valor</th>\n",
       "    </tr>\n",
       "  </thead>\n",
       "  <tbody>\n",
       "    <tr>\n",
       "      <th>0</th>\n",
       "      <td>Avenida Itacira, 255</td>\n",
       "      <td>Planalto Paulista</td>\n",
       "      <td>São Paulo</td>\n",
       "      <td>1000</td>\n",
       "      <td>4</td>\n",
       "      <td>8</td>\n",
       "      <td>6</td>\n",
       "      <td>R$ 7.000.000</td>\n",
       "    </tr>\n",
       "    <tr>\n",
       "      <th>1</th>\n",
       "      <td>Rua Aurelia Perez Alvarez, 42</td>\n",
       "      <td>Jardim dos Estados</td>\n",
       "      <td>São Paulo</td>\n",
       "      <td>496</td>\n",
       "      <td>4</td>\n",
       "      <td>4</td>\n",
       "      <td>4</td>\n",
       "      <td>R$ 3.700.000</td>\n",
       "    </tr>\n",
       "    <tr>\n",
       "      <th>2</th>\n",
       "      <td>Rua Alba Valdez</td>\n",
       "      <td>Jardim Reimberg</td>\n",
       "      <td>São Paulo</td>\n",
       "      <td>125</td>\n",
       "      <td>4</td>\n",
       "      <td>3</td>\n",
       "      <td>2</td>\n",
       "      <td>R$ 380.000</td>\n",
       "    </tr>\n",
       "    <tr>\n",
       "      <th>3</th>\n",
       "      <td>NaN</td>\n",
       "      <td>Jardim Morumbi</td>\n",
       "      <td>São Paulo</td>\n",
       "      <td>310</td>\n",
       "      <td>3</td>\n",
       "      <td>2</td>\n",
       "      <td>4</td>\n",
       "      <td>R$ 685.000</td>\n",
       "    </tr>\n",
       "    <tr>\n",
       "      <th>4</th>\n",
       "      <td>Rua Tobias Barreto, 195</td>\n",
       "      <td>Mooca</td>\n",
       "      <td>São Paulo</td>\n",
       "      <td>100</td>\n",
       "      <td>3</td>\n",
       "      <td>2</td>\n",
       "      <td>2</td>\n",
       "      <td>R$ 540.000</td>\n",
       "    </tr>\n",
       "  </tbody>\n",
       "</table>\n",
       "</div>"
      ],
      "text/plain": [
       "                              Rua              Bairro     Cidade  Metragem  \\\n",
       "0           Avenida Itacira, 255    Planalto Paulista  São Paulo      1000   \n",
       "1  Rua Aurelia Perez Alvarez, 42   Jardim dos Estados  São Paulo       496   \n",
       "2                 Rua Alba Valdez     Jardim Reimberg  São Paulo       125   \n",
       "3                             NaN      Jardim Morumbi  São Paulo       310   \n",
       "4        Rua Tobias Barreto, 195                Mooca  São Paulo       100   \n",
       "\n",
       "   Quartos  Banheiros  Vagas         Valor  \n",
       "0        4          8      6  R$ 7.000.000  \n",
       "1        4          4      4  R$ 3.700.000  \n",
       "2        4          3      2    R$ 380.000  \n",
       "3        3          2      4    R$ 685.000  \n",
       "4        3          2      2    R$ 540.000  "
      ]
     },
     "execution_count": 9,
     "metadata": {},
     "output_type": "execute_result"
    }
   ],
   "source": [
    "df_imoveis.head()"
   ]
  },
  {
   "cell_type": "code",
   "execution_count": 10,
   "metadata": {},
   "outputs": [
    {
     "data": {
      "text/plain": [
       "(10008, 8)"
      ]
     },
     "execution_count": 10,
     "metadata": {},
     "output_type": "execute_result"
    }
   ],
   "source": [
    "df_imoveis.shape"
   ]
  },
  {
   "cell_type": "code",
   "execution_count": 11,
   "metadata": {},
   "outputs": [
    {
     "name": "stdout",
     "output_type": "stream",
     "text": [
      "<class 'pandas.core.frame.DataFrame'>\n",
      "RangeIndex: 10008 entries, 0 to 10007\n",
      "Data columns (total 8 columns):\n",
      " #   Column     Non-Null Count  Dtype \n",
      "---  ------     --------------  ----- \n",
      " 0   Rua        6574 non-null   object\n",
      " 1   Bairro     9996 non-null   object\n",
      " 2   Cidade     10008 non-null  object\n",
      " 3   Metragem   10008 non-null  int64 \n",
      " 4   Quartos    10008 non-null  int64 \n",
      " 5   Banheiros  10008 non-null  int64 \n",
      " 6   Vagas      10008 non-null  int64 \n",
      " 7   Valor      10008 non-null  object\n",
      "dtypes: int64(4), object(4)\n",
      "memory usage: 625.6+ KB\n"
     ]
    }
   ],
   "source": [
    "df_imoveis.info()"
   ]
  },
  {
   "cell_type": "markdown",
   "metadata": {},
   "source": [
    "### Valores Nulos"
   ]
  },
  {
   "cell_type": "code",
   "execution_count": 13,
   "metadata": {},
   "outputs": [
    {
     "data": {
      "text/plain": [
       "Rua          3434\n",
       "Bairro         12\n",
       "Cidade          0\n",
       "Metragem        0\n",
       "Quartos         0\n",
       "Banheiros       0\n",
       "Vagas           0\n",
       "Valor           0\n",
       "dtype: int64"
      ]
     },
     "execution_count": 13,
     "metadata": {},
     "output_type": "execute_result"
    }
   ],
   "source": [
    "df_imoveis.isna().sum()"
   ]
  },
  {
   "cell_type": "markdown",
   "metadata": {},
   "source": [
    "As variáveis `Rua` e `Bairro` possuem valores nulos que precisam ser tratados posteriormente."
   ]
  },
  {
   "cell_type": "markdown",
   "metadata": {},
   "source": [
    "### Tipos dos dados"
   ]
  },
  {
   "cell_type": "code",
   "execution_count": 24,
   "metadata": {},
   "outputs": [
    {
     "data": {
      "text/plain": [
       "Rua          object\n",
       "Bairro       object\n",
       "Cidade       object\n",
       "Metragem      int64\n",
       "Quartos       int64\n",
       "Banheiros     int64\n",
       "Vagas         int64\n",
       "Valor        object\n",
       "dtype: object"
      ]
     },
     "execution_count": 24,
     "metadata": {},
     "output_type": "execute_result"
    }
   ],
   "source": [
    "df_imoveis.dtypes"
   ]
  },
  {
   "cell_type": "markdown",
   "metadata": {},
   "source": [
    "O tipo da coluna `Valor` está errado, devendo ser transformada para numérica de ponto flutuante."
   ]
  },
  {
   "cell_type": "code",
   "execution_count": 29,
   "metadata": {},
   "outputs": [
    {
     "data": {
      "text/plain": [
       "5663    R$ 28.000\\n                      /Mês\n",
       "2809                             R$ 1.600.000\n",
       "1681                             R$ 3.000.000\n",
       "5948                             R$ 7.500.000\n",
       "4063                             R$ 1.850.000\n",
       "3973                             R$ 2.970.000\n",
       "4003                             R$ 2.800.000\n",
       "8649                             R$ 6.500.000\n",
       "8771                               R$ 999.000\n",
       "8908                             R$ 1.000.000\n",
       "Name: Valor, dtype: object"
      ]
     },
     "execution_count": 29,
     "metadata": {},
     "output_type": "execute_result"
    }
   ],
   "source": [
    "df_imoveis['Valor'].sample(10)"
   ]
  },
  {
   "cell_type": "markdown",
   "metadata": {},
   "source": [
    "### Resolvendo Tipos de Dados Incorretos"
   ]
  },
  {
   "cell_type": "markdown",
   "metadata": {},
   "source": [
    "**Variável `Valor`**"
   ]
  },
  {
   "cell_type": "code",
   "execution_count": null,
   "metadata": {},
   "outputs": [],
   "source": []
  },
  {
   "cell_type": "markdown",
   "metadata": {},
   "source": [
    "# Calculando Estatísticas"
   ]
  },
  {
   "cell_type": "code",
   "execution_count": 34,
   "metadata": {},
   "outputs": [
    {
     "data": {
      "text/html": [
       "<div>\n",
       "<style scoped>\n",
       "    .dataframe tbody tr th:only-of-type {\n",
       "        vertical-align: middle;\n",
       "    }\n",
       "\n",
       "    .dataframe tbody tr th {\n",
       "        vertical-align: top;\n",
       "    }\n",
       "\n",
       "    .dataframe thead th {\n",
       "        text-align: right;\n",
       "    }\n",
       "</style>\n",
       "<table border=\"1\" class=\"dataframe\">\n",
       "  <thead>\n",
       "    <tr style=\"text-align: right;\">\n",
       "      <th></th>\n",
       "      <th>count</th>\n",
       "      <th>Média</th>\n",
       "      <th>std</th>\n",
       "      <th>min</th>\n",
       "      <th>25%</th>\n",
       "      <th>Mediana</th>\n",
       "      <th>75%</th>\n",
       "      <th>max</th>\n",
       "    </tr>\n",
       "  </thead>\n",
       "  <tbody>\n",
       "    <tr>\n",
       "      <th>Metragem</th>\n",
       "      <td>10008.0</td>\n",
       "      <td>442.300659</td>\n",
       "      <td>7515.379389</td>\n",
       "      <td>10.0</td>\n",
       "      <td>173.0</td>\n",
       "      <td>290.0</td>\n",
       "      <td>460.25</td>\n",
       "      <td>750000.0</td>\n",
       "    </tr>\n",
       "    <tr>\n",
       "      <th>Quartos</th>\n",
       "      <td>10008.0</td>\n",
       "      <td>3.483114</td>\n",
       "      <td>1.064200</td>\n",
       "      <td>1.0</td>\n",
       "      <td>3.0</td>\n",
       "      <td>3.0</td>\n",
       "      <td>4.00</td>\n",
       "      <td>16.0</td>\n",
       "    </tr>\n",
       "    <tr>\n",
       "      <th>Banheiros</th>\n",
       "      <td>10008.0</td>\n",
       "      <td>3.879097</td>\n",
       "      <td>1.988467</td>\n",
       "      <td>1.0</td>\n",
       "      <td>2.0</td>\n",
       "      <td>4.0</td>\n",
       "      <td>5.00</td>\n",
       "      <td>40.0</td>\n",
       "    </tr>\n",
       "    <tr>\n",
       "      <th>Vagas</th>\n",
       "      <td>10008.0</td>\n",
       "      <td>4.097222</td>\n",
       "      <td>2.824014</td>\n",
       "      <td>1.0</td>\n",
       "      <td>2.0</td>\n",
       "      <td>4.0</td>\n",
       "      <td>5.00</td>\n",
       "      <td>50.0</td>\n",
       "    </tr>\n",
       "  </tbody>\n",
       "</table>\n",
       "</div>"
      ],
      "text/plain": [
       "             count       Média          std   min    25%  Mediana     75%  \\\n",
       "Metragem   10008.0  442.300659  7515.379389  10.0  173.0    290.0  460.25   \n",
       "Quartos    10008.0    3.483114     1.064200   1.0    3.0      3.0    4.00   \n",
       "Banheiros  10008.0    3.879097     1.988467   1.0    2.0      4.0    5.00   \n",
       "Vagas      10008.0    4.097222     2.824014   1.0    2.0      4.0    5.00   \n",
       "\n",
       "                max  \n",
       "Metragem   750000.0  \n",
       "Quartos        16.0  \n",
       "Banheiros      40.0  \n",
       "Vagas          50.0  "
      ]
     },
     "execution_count": 34,
     "metadata": {},
     "output_type": "execute_result"
    }
   ],
   "source": [
    "df_imoveis.describe().rename({'50%': 'Mediana', 'mean': 'Média'}).T"
   ]
  },
  {
   "cell_type": "code",
   "execution_count": null,
   "metadata": {},
   "outputs": [],
   "source": []
  },
  {
   "cell_type": "markdown",
   "metadata": {},
   "source": [
    "# Imprimindo BoxPlots"
   ]
  },
  {
   "cell_type": "code",
   "execution_count": 38,
   "metadata": {},
   "outputs": [
    {
     "data": {
      "text/plain": [
       "<AxesSubplot:>"
      ]
     },
     "execution_count": 38,
     "metadata": {},
     "output_type": "execute_result"
    },
    {
     "data": {
      "image/png": "[encoded data removed]",
      "text/plain": [
       "<Figure size 640x480 with 1 Axes>"
      ]
     },
     "metadata": {},
     "output_type": "display_data"
    }
   ],
   "source": [
    "sns.boxplot(df_imoveis['Metragem'])"
   ]
  },
  {
   "cell_type": "code",
   "execution_count": 39,
   "metadata": {},
   "outputs": [
    {
     "data": {
      "text/plain": [
       "<AxesSubplot:>"
      ]
     },
     "execution_count": 39,
     "metadata": {},
     "output_type": "execute_result"
    },
    {
     "data": {
      "image/png": "[encoded data removed]",
      "text/plain": [
       "<Figure size 640x480 with 1 Axes>"
      ]
     },
     "metadata": {},
     "output_type": "display_data"
    }
   ],
   "source": [
    "sns.boxplot(df_imoveis.drop(columns=['Metragem']))"
   ]
  },
  {
   "cell_type": "code",
   "execution_count": 40,
   "metadata": {},
   "outputs": [
    {
     "data": {
      "text/plain": [
       "<AxesSubplot:>"
      ]
     },
     "execution_count": 40,
     "metadata": {},
     "output_type": "execute_result"
    },
    {
     "data": {
      "image/png": "[encoded data removed]",
      "text/plain": [
       "<Figure size 640x480 with 1 Axes>"
      ]
     },
     "metadata": {},
     "output_type": "display_data"
    }
   ],
   "source": [
    "sns.boxenplot(df_imoveis.drop(columns=['Metragem']))"
   ]
  },
  {
   "cell_type": "code",
   "execution_count": 43,
   "metadata": {},
   "outputs": [
    {
     "data": {
      "text/plain": [
       "<AxesSubplot:>"
      ]
     },
     "execution_count": 43,
     "metadata": {},
     "output_type": "execute_result"
    },
    {
     "data": {
      "image/png": "[encoded data removed]",
      "text/plain": [
       "<Figure size 640x480 with 1 Axes>"
      ]
     },
     "metadata": {},
     "output_type": "display_data"
    }
   ],
   "source": [
    "sns.violinplot(df_imoveis['Quartos'])"
   ]
  },
  {
   "cell_type": "code",
   "execution_count": null,
   "metadata": {},
   "outputs": [],
   "source": []
  }
 ],
 "metadata": {
  "kernelspec": {
   "display_name": "minimal_ds",
   "language": "python",
   "name": "python3"
  },
  "language_info": {
   "codemirror_mode": {
    "name": "ipython",
    "version": 3
   },
   "file_extension": ".py",
   "mimetype": "text/x-python",
   "name": "python",
   "nbconvert_exporter": "python",
   "pygments_lexer": "ipython3",
   "version": "3.8.10"
  },
  "orig_nbformat": 4
 },
 "nbformat": 4,
 "nbformat_minor": 2
}
